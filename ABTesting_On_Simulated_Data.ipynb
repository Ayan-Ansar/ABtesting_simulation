{
  "nbformat": 4,
  "nbformat_minor": 0,
  "metadata": {
    "colab": {
      "provenance": [],
      "collapsed_sections": [
        "pNzVL3jFMGsY"
      ]
    },
    "kernelspec": {
      "name": "python3",
      "display_name": "Python 3"
    },
    "language_info": {
      "name": "python"
    }
  },
  "cells": [
    {
      "cell_type": "code",
      "source": [
        "import pandas as pd\n",
        "import numpy as np\n",
        "import warnings\n",
        "warnings.filterwarnings('ignore')\n",
        "np.random.seed(123)"
      ],
      "metadata": {
        "id": "isoEIwOU91od"
      },
      "execution_count": null,
      "outputs": []
    },
    {
      "cell_type": "markdown",
      "source": [
        "# 1. Power Analysis"
      ],
      "metadata": {
        "id": "M9U7HHBO7ujH"
      }
    },
    {
      "cell_type": "code",
      "execution_count": null,
      "metadata": {
        "colab": {
          "base_uri": "https://localhost:8080/"
        },
        "id": "l1qxryJb7guK",
        "outputId": "2c5d5b41-f5db-4b72-ad41-0d4ca255b1dd"
      },
      "outputs": [
        {
          "output_type": "stream",
          "name": "stdout",
          "text": [
            "Sample Size:  6279\n"
          ]
        }
      ],
      "source": [
        "from statsmodels.stats.power import zt_ind_solve_power\n",
        "\n",
        "\n",
        "# parameters for power analysis\n",
        "\n",
        "effect = 0.05 # MDE\n",
        "alpha = 0.05\n",
        "power = 0.8\n",
        "\n",
        "# perform power analysis\n",
        "result = zt_ind_solve_power(effect, power = power, alpha = alpha)\n",
        "print('Sample Size: ', round(result))"
      ]
    },
    {
      "cell_type": "markdown",
      "source": [
        "Total sample size required i.e **Control + Treatment** group is around 12558 ( 6279 x 2 )"
      ],
      "metadata": {
        "id": "n9r1wfHn-Ox9"
      }
    },
    {
      "cell_type": "markdown",
      "source": [
        "You can calculate the days required by dividing the total sample size with average number of user that come to your website in one day\n",
        "Duration = Total sample size / avg number of users in a day"
      ],
      "metadata": {
        "id": "Zhvnc6jxpSOG"
      }
    },
    {
      "cell_type": "markdown",
      "source": [
        "# 2. Data Generation process\n",
        "Variables to be simulated:\n",
        "1. userid\n",
        "2. group\n",
        "5. converted\n"
      ],
      "metadata": {
        "id": "NiZ1ybDA-x-6"
      }
    },
    {
      "cell_type": "markdown",
      "source": [
        "We are intentionally adding a little variation in the number of participants to signal a potential Sample Ratio Mismatch, SRM"
      ],
      "metadata": {
        "id": "3PsFUSQA_bwR"
      }
    },
    {
      "cell_type": "code",
      "source": [
        "# variable 1 : userid\n",
        "user_id_control = list(range(1,6501))  # 6500 participants in control\n",
        "user_id_treatment = list(range(6501, 12701)) #  6200 participants in treatment\n",
        "\n",
        "print(\"Sample list of user id's in control (first 5) : \" , user_id_control[:5])\n",
        "print(\"Sample list of user id's in treatment (first 5): \" , user_id_treatment[:5])"
      ],
      "metadata": {
        "colab": {
          "base_uri": "https://localhost:8080/"
        },
        "id": "AF1rnjQl-ZU9",
        "outputId": "8d30e1c2-cf12-4da2-d1eb-8377c840ec1b"
      },
      "execution_count": null,
      "outputs": [
        {
          "output_type": "stream",
          "name": "stdout",
          "text": [
            "Sample list of user id's in control (first 5) :  [1, 2, 3, 4, 5]\n",
            "Sample list of user id's in treatment (first 5):  [6501, 6502, 6503, 6504, 6505]\n"
          ]
        }
      ]
    },
    {
      "cell_type": "code",
      "source": [
        "# variable 2 : Group\n",
        "\n",
        "control_status = ['control']*6500\n",
        "treatment_status = ['treatment']*6200\n",
        "\n",
        "print(\"First 5 values in Control list: \", control_status[:5])\n",
        "print(\"First 5 values in Treatment list: \",  treatment_status[:5])"
      ],
      "metadata": {
        "colab": {
          "base_uri": "https://localhost:8080/"
        },
        "id": "QxHjmI0wADLL",
        "outputId": "47b4fe40-2a51-439a-867a-c81ec1d13c1e"
      },
      "execution_count": null,
      "outputs": [
        {
          "output_type": "stream",
          "name": "stdout",
          "text": [
            "First 5 values in Control list:  ['control', 'control', 'control', 'control', 'control']\n",
            "First 5 values in Treatment list:  ['treatment', 'treatment', 'treatment', 'treatment', 'treatment']\n"
          ]
        }
      ]
    },
    {
      "cell_type": "code",
      "source": [
        "\n",
        "# Variable 4 : converted\n",
        "converted_choice = [True, False]\n",
        "converted_control = np.random.choice(converted_choice, 6500, p=[0.18, 0.82])\n",
        "converted_treatment = np.random.choice(converted_choice, 6200, p=[0.2, 0.8])\n",
        "\n",
        "print(\"First 5 values for converted list control:\" , converted_control[:5])\n",
        "print(\"First 5 values for converted list treatment:\", converted_treatment[:5])"
      ],
      "metadata": {
        "colab": {
          "base_uri": "https://localhost:8080/"
        },
        "id": "o0t-PPBXFvy3",
        "outputId": "71ab07cc-43f5-4d42-a4ae-e1d2181da96c"
      },
      "execution_count": null,
      "outputs": [
        {
          "output_type": "stream",
          "name": "stdout",
          "text": [
            "First 5 values for converted list control: [False False False False False]\n",
            "First 5 values for converted list treatment: [ True False False False False]\n"
          ]
        }
      ]
    },
    {
      "cell_type": "markdown",
      "source": [
        "### Construct our Control group\n",
        "\n",
        "\n",
        "*  user_id_control\n",
        "*  version\n",
        "*  converted_control\n",
        "\n",
        "\n",
        "\n",
        "\n",
        "\n",
        "\n",
        "\n"
      ],
      "metadata": {
        "id": "SaOVOLmjHZ3c"
      }
    },
    {
      "cell_type": "code",
      "source": [
        "raw_control = {'User_id':user_id_control,\n",
        "                 'Version':control_status,\n",
        "               'Converted' : converted_control\n",
        "                }\n",
        "\n",
        "control_group = pd.DataFrame(data=raw_control)\n",
        "control_group.head()"
      ],
      "metadata": {
        "colab": {
          "base_uri": "https://localhost:8080/",
          "height": 206
        },
        "id": "Tgr1HdpHHAaP",
        "outputId": "bc47ef1b-19e6-4412-ae7d-c281bac9d2dc"
      },
      "execution_count": null,
      "outputs": [
        {
          "output_type": "execute_result",
          "data": {
            "text/plain": [
              "   User_id  Version  Converted\n",
              "0        1  control      False\n",
              "1        2  control      False\n",
              "2        3  control      False\n",
              "3        4  control      False\n",
              "4        5  control      False"
            ],
            "text/html": [
              "\n",
              "  <div id=\"df-111cdb8a-d672-4798-a36f-bc0a44b72c27\">\n",
              "    <div class=\"colab-df-container\">\n",
              "      <div>\n",
              "<style scoped>\n",
              "    .dataframe tbody tr th:only-of-type {\n",
              "        vertical-align: middle;\n",
              "    }\n",
              "\n",
              "    .dataframe tbody tr th {\n",
              "        vertical-align: top;\n",
              "    }\n",
              "\n",
              "    .dataframe thead th {\n",
              "        text-align: right;\n",
              "    }\n",
              "</style>\n",
              "<table border=\"1\" class=\"dataframe\">\n",
              "  <thead>\n",
              "    <tr style=\"text-align: right;\">\n",
              "      <th></th>\n",
              "      <th>User_id</th>\n",
              "      <th>Version</th>\n",
              "      <th>Converted</th>\n",
              "    </tr>\n",
              "  </thead>\n",
              "  <tbody>\n",
              "    <tr>\n",
              "      <th>0</th>\n",
              "      <td>1</td>\n",
              "      <td>control</td>\n",
              "      <td>False</td>\n",
              "    </tr>\n",
              "    <tr>\n",
              "      <th>1</th>\n",
              "      <td>2</td>\n",
              "      <td>control</td>\n",
              "      <td>False</td>\n",
              "    </tr>\n",
              "    <tr>\n",
              "      <th>2</th>\n",
              "      <td>3</td>\n",
              "      <td>control</td>\n",
              "      <td>False</td>\n",
              "    </tr>\n",
              "    <tr>\n",
              "      <th>3</th>\n",
              "      <td>4</td>\n",
              "      <td>control</td>\n",
              "      <td>False</td>\n",
              "    </tr>\n",
              "    <tr>\n",
              "      <th>4</th>\n",
              "      <td>5</td>\n",
              "      <td>control</td>\n",
              "      <td>False</td>\n",
              "    </tr>\n",
              "  </tbody>\n",
              "</table>\n",
              "</div>\n",
              "      <button class=\"colab-df-convert\" onclick=\"convertToInteractive('df-111cdb8a-d672-4798-a36f-bc0a44b72c27')\"\n",
              "              title=\"Convert this dataframe to an interactive table.\"\n",
              "              style=\"display:none;\">\n",
              "        \n",
              "  <svg xmlns=\"http://www.w3.org/2000/svg\" height=\"24px\"viewBox=\"0 0 24 24\"\n",
              "       width=\"24px\">\n",
              "    <path d=\"M0 0h24v24H0V0z\" fill=\"none\"/>\n",
              "    <path d=\"M18.56 5.44l.94 2.06.94-2.06 2.06-.94-2.06-.94-.94-2.06-.94 2.06-2.06.94zm-11 1L8.5 8.5l.94-2.06 2.06-.94-2.06-.94L8.5 2.5l-.94 2.06-2.06.94zm10 10l.94 2.06.94-2.06 2.06-.94-2.06-.94-.94-2.06-.94 2.06-2.06.94z\"/><path d=\"M17.41 7.96l-1.37-1.37c-.4-.4-.92-.59-1.43-.59-.52 0-1.04.2-1.43.59L10.3 9.45l-7.72 7.72c-.78.78-.78 2.05 0 2.83L4 21.41c.39.39.9.59 1.41.59.51 0 1.02-.2 1.41-.59l7.78-7.78 2.81-2.81c.8-.78.8-2.07 0-2.86zM5.41 20L4 18.59l7.72-7.72 1.47 1.35L5.41 20z\"/>\n",
              "  </svg>\n",
              "      </button>\n",
              "      \n",
              "  <style>\n",
              "    .colab-df-container {\n",
              "      display:flex;\n",
              "      flex-wrap:wrap;\n",
              "      gap: 12px;\n",
              "    }\n",
              "\n",
              "    .colab-df-convert {\n",
              "      background-color: #E8F0FE;\n",
              "      border: none;\n",
              "      border-radius: 50%;\n",
              "      cursor: pointer;\n",
              "      display: none;\n",
              "      fill: #1967D2;\n",
              "      height: 32px;\n",
              "      padding: 0 0 0 0;\n",
              "      width: 32px;\n",
              "    }\n",
              "\n",
              "    .colab-df-convert:hover {\n",
              "      background-color: #E2EBFA;\n",
              "      box-shadow: 0px 1px 2px rgba(60, 64, 67, 0.3), 0px 1px 3px 1px rgba(60, 64, 67, 0.15);\n",
              "      fill: #174EA6;\n",
              "    }\n",
              "\n",
              "    [theme=dark] .colab-df-convert {\n",
              "      background-color: #3B4455;\n",
              "      fill: #D2E3FC;\n",
              "    }\n",
              "\n",
              "    [theme=dark] .colab-df-convert:hover {\n",
              "      background-color: #434B5C;\n",
              "      box-shadow: 0px 1px 3px 1px rgba(0, 0, 0, 0.15);\n",
              "      filter: drop-shadow(0px 1px 2px rgba(0, 0, 0, 0.3));\n",
              "      fill: #FFFFFF;\n",
              "    }\n",
              "  </style>\n",
              "\n",
              "      <script>\n",
              "        const buttonEl =\n",
              "          document.querySelector('#df-111cdb8a-d672-4798-a36f-bc0a44b72c27 button.colab-df-convert');\n",
              "        buttonEl.style.display =\n",
              "          google.colab.kernel.accessAllowed ? 'block' : 'none';\n",
              "\n",
              "        async function convertToInteractive(key) {\n",
              "          const element = document.querySelector('#df-111cdb8a-d672-4798-a36f-bc0a44b72c27');\n",
              "          const dataTable =\n",
              "            await google.colab.kernel.invokeFunction('convertToInteractive',\n",
              "                                                     [key], {});\n",
              "          if (!dataTable) return;\n",
              "\n",
              "          const docLinkHtml = 'Like what you see? Visit the ' +\n",
              "            '<a target=\"_blank\" href=https://colab.research.google.com/notebooks/data_table.ipynb>data table notebook</a>'\n",
              "            + ' to learn more about interactive tables.';\n",
              "          element.innerHTML = '';\n",
              "          dataTable['output_type'] = 'display_data';\n",
              "          await google.colab.output.renderOutput(dataTable, element);\n",
              "          const docLink = document.createElement('div');\n",
              "          docLink.innerHTML = docLinkHtml;\n",
              "          element.appendChild(docLink);\n",
              "        }\n",
              "      </script>\n",
              "    </div>\n",
              "  </div>\n",
              "  "
            ]
          },
          "metadata": {},
          "execution_count": 8
        }
      ]
    },
    {
      "cell_type": "markdown",
      "source": [
        "### Construct our treatment group\n",
        "\n",
        "\n",
        "*  user_id_treatment\n",
        "*  version\n",
        "*  converted_treatment\n"
      ],
      "metadata": {
        "id": "V4YfGcbxI6h4"
      }
    },
    {
      "cell_type": "code",
      "source": [
        "raw_treatment = {'User_id':user_id_treatment,\n",
        "                 'Version':treatment_status,\n",
        "               'Converted' : converted_treatment\n",
        "                }\n",
        "\n",
        "treatment_group = pd.DataFrame(data=raw_treatment)\n",
        "treatment_group.head()"
      ],
      "metadata": {
        "colab": {
          "base_uri": "https://localhost:8080/",
          "height": 206
        },
        "id": "Gq9BObCPIYnS",
        "outputId": "e78b01fd-41ef-43d8-fe26-010cf79a5219"
      },
      "execution_count": null,
      "outputs": [
        {
          "output_type": "execute_result",
          "data": {
            "text/plain": [
              "   User_id    Version  Converted\n",
              "0     6501  treatment       True\n",
              "1     6502  treatment      False\n",
              "2     6503  treatment      False\n",
              "3     6504  treatment      False\n",
              "4     6505  treatment      False"
            ],
            "text/html": [
              "\n",
              "  <div id=\"df-8acee8b6-75b6-44d4-a98b-624ff7ec774d\">\n",
              "    <div class=\"colab-df-container\">\n",
              "      <div>\n",
              "<style scoped>\n",
              "    .dataframe tbody tr th:only-of-type {\n",
              "        vertical-align: middle;\n",
              "    }\n",
              "\n",
              "    .dataframe tbody tr th {\n",
              "        vertical-align: top;\n",
              "    }\n",
              "\n",
              "    .dataframe thead th {\n",
              "        text-align: right;\n",
              "    }\n",
              "</style>\n",
              "<table border=\"1\" class=\"dataframe\">\n",
              "  <thead>\n",
              "    <tr style=\"text-align: right;\">\n",
              "      <th></th>\n",
              "      <th>User_id</th>\n",
              "      <th>Version</th>\n",
              "      <th>Converted</th>\n",
              "    </tr>\n",
              "  </thead>\n",
              "  <tbody>\n",
              "    <tr>\n",
              "      <th>0</th>\n",
              "      <td>6501</td>\n",
              "      <td>treatment</td>\n",
              "      <td>True</td>\n",
              "    </tr>\n",
              "    <tr>\n",
              "      <th>1</th>\n",
              "      <td>6502</td>\n",
              "      <td>treatment</td>\n",
              "      <td>False</td>\n",
              "    </tr>\n",
              "    <tr>\n",
              "      <th>2</th>\n",
              "      <td>6503</td>\n",
              "      <td>treatment</td>\n",
              "      <td>False</td>\n",
              "    </tr>\n",
              "    <tr>\n",
              "      <th>3</th>\n",
              "      <td>6504</td>\n",
              "      <td>treatment</td>\n",
              "      <td>False</td>\n",
              "    </tr>\n",
              "    <tr>\n",
              "      <th>4</th>\n",
              "      <td>6505</td>\n",
              "      <td>treatment</td>\n",
              "      <td>False</td>\n",
              "    </tr>\n",
              "  </tbody>\n",
              "</table>\n",
              "</div>\n",
              "      <button class=\"colab-df-convert\" onclick=\"convertToInteractive('df-8acee8b6-75b6-44d4-a98b-624ff7ec774d')\"\n",
              "              title=\"Convert this dataframe to an interactive table.\"\n",
              "              style=\"display:none;\">\n",
              "        \n",
              "  <svg xmlns=\"http://www.w3.org/2000/svg\" height=\"24px\"viewBox=\"0 0 24 24\"\n",
              "       width=\"24px\">\n",
              "    <path d=\"M0 0h24v24H0V0z\" fill=\"none\"/>\n",
              "    <path d=\"M18.56 5.44l.94 2.06.94-2.06 2.06-.94-2.06-.94-.94-2.06-.94 2.06-2.06.94zm-11 1L8.5 8.5l.94-2.06 2.06-.94-2.06-.94L8.5 2.5l-.94 2.06-2.06.94zm10 10l.94 2.06.94-2.06 2.06-.94-2.06-.94-.94-2.06-.94 2.06-2.06.94z\"/><path d=\"M17.41 7.96l-1.37-1.37c-.4-.4-.92-.59-1.43-.59-.52 0-1.04.2-1.43.59L10.3 9.45l-7.72 7.72c-.78.78-.78 2.05 0 2.83L4 21.41c.39.39.9.59 1.41.59.51 0 1.02-.2 1.41-.59l7.78-7.78 2.81-2.81c.8-.78.8-2.07 0-2.86zM5.41 20L4 18.59l7.72-7.72 1.47 1.35L5.41 20z\"/>\n",
              "  </svg>\n",
              "      </button>\n",
              "      \n",
              "  <style>\n",
              "    .colab-df-container {\n",
              "      display:flex;\n",
              "      flex-wrap:wrap;\n",
              "      gap: 12px;\n",
              "    }\n",
              "\n",
              "    .colab-df-convert {\n",
              "      background-color: #E8F0FE;\n",
              "      border: none;\n",
              "      border-radius: 50%;\n",
              "      cursor: pointer;\n",
              "      display: none;\n",
              "      fill: #1967D2;\n",
              "      height: 32px;\n",
              "      padding: 0 0 0 0;\n",
              "      width: 32px;\n",
              "    }\n",
              "\n",
              "    .colab-df-convert:hover {\n",
              "      background-color: #E2EBFA;\n",
              "      box-shadow: 0px 1px 2px rgba(60, 64, 67, 0.3), 0px 1px 3px 1px rgba(60, 64, 67, 0.15);\n",
              "      fill: #174EA6;\n",
              "    }\n",
              "\n",
              "    [theme=dark] .colab-df-convert {\n",
              "      background-color: #3B4455;\n",
              "      fill: #D2E3FC;\n",
              "    }\n",
              "\n",
              "    [theme=dark] .colab-df-convert:hover {\n",
              "      background-color: #434B5C;\n",
              "      box-shadow: 0px 1px 3px 1px rgba(0, 0, 0, 0.15);\n",
              "      filter: drop-shadow(0px 1px 2px rgba(0, 0, 0, 0.3));\n",
              "      fill: #FFFFFF;\n",
              "    }\n",
              "  </style>\n",
              "\n",
              "      <script>\n",
              "        const buttonEl =\n",
              "          document.querySelector('#df-8acee8b6-75b6-44d4-a98b-624ff7ec774d button.colab-df-convert');\n",
              "        buttonEl.style.display =\n",
              "          google.colab.kernel.accessAllowed ? 'block' : 'none';\n",
              "\n",
              "        async function convertToInteractive(key) {\n",
              "          const element = document.querySelector('#df-8acee8b6-75b6-44d4-a98b-624ff7ec774d');\n",
              "          const dataTable =\n",
              "            await google.colab.kernel.invokeFunction('convertToInteractive',\n",
              "                                                     [key], {});\n",
              "          if (!dataTable) return;\n",
              "\n",
              "          const docLinkHtml = 'Like what you see? Visit the ' +\n",
              "            '<a target=\"_blank\" href=https://colab.research.google.com/notebooks/data_table.ipynb>data table notebook</a>'\n",
              "            + ' to learn more about interactive tables.';\n",
              "          element.innerHTML = '';\n",
              "          dataTable['output_type'] = 'display_data';\n",
              "          await google.colab.output.renderOutput(dataTable, element);\n",
              "          const docLink = document.createElement('div');\n",
              "          docLink.innerHTML = docLinkHtml;\n",
              "          element.appendChild(docLink);\n",
              "        }\n",
              "      </script>\n",
              "    </div>\n",
              "  </div>\n",
              "  "
            ]
          },
          "metadata": {},
          "execution_count": 9
        }
      ]
    },
    {
      "cell_type": "code",
      "source": [
        "# combine these two datasets\n",
        "df = control_group.append(treatment_group)\n",
        "\n",
        "# randomize the orders using df.sample(frac=1)\n",
        "# The frac keyword argument: specifies the fraction of rows to return in the random sample\n",
        "# so frac=1 means return all rows (in random order).\n",
        "final_data = df.sample(frac=1).reset_index(drop=True)\n",
        "final_data.head()"
      ],
      "metadata": {
        "colab": {
          "base_uri": "https://localhost:8080/",
          "height": 206
        },
        "id": "wrkOGXF6JITY",
        "outputId": "8634597b-8d5d-4774-f74e-c4e50ac2c664"
      },
      "execution_count": null,
      "outputs": [
        {
          "output_type": "execute_result",
          "data": {
            "text/plain": [
              "   User_id    Version  Converted\n",
              "0    12065  treatment       True\n",
              "1     4447    control      False\n",
              "2     5336    control      False\n",
              "3       97    control      False\n",
              "4     7640  treatment      False"
            ],
            "text/html": [
              "\n",
              "  <div id=\"df-4b9b94ce-cd62-4789-89bc-395e3ffa4934\">\n",
              "    <div class=\"colab-df-container\">\n",
              "      <div>\n",
              "<style scoped>\n",
              "    .dataframe tbody tr th:only-of-type {\n",
              "        vertical-align: middle;\n",
              "    }\n",
              "\n",
              "    .dataframe tbody tr th {\n",
              "        vertical-align: top;\n",
              "    }\n",
              "\n",
              "    .dataframe thead th {\n",
              "        text-align: right;\n",
              "    }\n",
              "</style>\n",
              "<table border=\"1\" class=\"dataframe\">\n",
              "  <thead>\n",
              "    <tr style=\"text-align: right;\">\n",
              "      <th></th>\n",
              "      <th>User_id</th>\n",
              "      <th>Version</th>\n",
              "      <th>Converted</th>\n",
              "    </tr>\n",
              "  </thead>\n",
              "  <tbody>\n",
              "    <tr>\n",
              "      <th>0</th>\n",
              "      <td>12065</td>\n",
              "      <td>treatment</td>\n",
              "      <td>True</td>\n",
              "    </tr>\n",
              "    <tr>\n",
              "      <th>1</th>\n",
              "      <td>4447</td>\n",
              "      <td>control</td>\n",
              "      <td>False</td>\n",
              "    </tr>\n",
              "    <tr>\n",
              "      <th>2</th>\n",
              "      <td>5336</td>\n",
              "      <td>control</td>\n",
              "      <td>False</td>\n",
              "    </tr>\n",
              "    <tr>\n",
              "      <th>3</th>\n",
              "      <td>97</td>\n",
              "      <td>control</td>\n",
              "      <td>False</td>\n",
              "    </tr>\n",
              "    <tr>\n",
              "      <th>4</th>\n",
              "      <td>7640</td>\n",
              "      <td>treatment</td>\n",
              "      <td>False</td>\n",
              "    </tr>\n",
              "  </tbody>\n",
              "</table>\n",
              "</div>\n",
              "      <button class=\"colab-df-convert\" onclick=\"convertToInteractive('df-4b9b94ce-cd62-4789-89bc-395e3ffa4934')\"\n",
              "              title=\"Convert this dataframe to an interactive table.\"\n",
              "              style=\"display:none;\">\n",
              "        \n",
              "  <svg xmlns=\"http://www.w3.org/2000/svg\" height=\"24px\"viewBox=\"0 0 24 24\"\n",
              "       width=\"24px\">\n",
              "    <path d=\"M0 0h24v24H0V0z\" fill=\"none\"/>\n",
              "    <path d=\"M18.56 5.44l.94 2.06.94-2.06 2.06-.94-2.06-.94-.94-2.06-.94 2.06-2.06.94zm-11 1L8.5 8.5l.94-2.06 2.06-.94-2.06-.94L8.5 2.5l-.94 2.06-2.06.94zm10 10l.94 2.06.94-2.06 2.06-.94-2.06-.94-.94-2.06-.94 2.06-2.06.94z\"/><path d=\"M17.41 7.96l-1.37-1.37c-.4-.4-.92-.59-1.43-.59-.52 0-1.04.2-1.43.59L10.3 9.45l-7.72 7.72c-.78.78-.78 2.05 0 2.83L4 21.41c.39.39.9.59 1.41.59.51 0 1.02-.2 1.41-.59l7.78-7.78 2.81-2.81c.8-.78.8-2.07 0-2.86zM5.41 20L4 18.59l7.72-7.72 1.47 1.35L5.41 20z\"/>\n",
              "  </svg>\n",
              "      </button>\n",
              "      \n",
              "  <style>\n",
              "    .colab-df-container {\n",
              "      display:flex;\n",
              "      flex-wrap:wrap;\n",
              "      gap: 12px;\n",
              "    }\n",
              "\n",
              "    .colab-df-convert {\n",
              "      background-color: #E8F0FE;\n",
              "      border: none;\n",
              "      border-radius: 50%;\n",
              "      cursor: pointer;\n",
              "      display: none;\n",
              "      fill: #1967D2;\n",
              "      height: 32px;\n",
              "      padding: 0 0 0 0;\n",
              "      width: 32px;\n",
              "    }\n",
              "\n",
              "    .colab-df-convert:hover {\n",
              "      background-color: #E2EBFA;\n",
              "      box-shadow: 0px 1px 2px rgba(60, 64, 67, 0.3), 0px 1px 3px 1px rgba(60, 64, 67, 0.15);\n",
              "      fill: #174EA6;\n",
              "    }\n",
              "\n",
              "    [theme=dark] .colab-df-convert {\n",
              "      background-color: #3B4455;\n",
              "      fill: #D2E3FC;\n",
              "    }\n",
              "\n",
              "    [theme=dark] .colab-df-convert:hover {\n",
              "      background-color: #434B5C;\n",
              "      box-shadow: 0px 1px 3px 1px rgba(0, 0, 0, 0.15);\n",
              "      filter: drop-shadow(0px 1px 2px rgba(0, 0, 0, 0.3));\n",
              "      fill: #FFFFFF;\n",
              "    }\n",
              "  </style>\n",
              "\n",
              "      <script>\n",
              "        const buttonEl =\n",
              "          document.querySelector('#df-4b9b94ce-cd62-4789-89bc-395e3ffa4934 button.colab-df-convert');\n",
              "        buttonEl.style.display =\n",
              "          google.colab.kernel.accessAllowed ? 'block' : 'none';\n",
              "\n",
              "        async function convertToInteractive(key) {\n",
              "          const element = document.querySelector('#df-4b9b94ce-cd62-4789-89bc-395e3ffa4934');\n",
              "          const dataTable =\n",
              "            await google.colab.kernel.invokeFunction('convertToInteractive',\n",
              "                                                     [key], {});\n",
              "          if (!dataTable) return;\n",
              "\n",
              "          const docLinkHtml = 'Like what you see? Visit the ' +\n",
              "            '<a target=\"_blank\" href=https://colab.research.google.com/notebooks/data_table.ipynb>data table notebook</a>'\n",
              "            + ' to learn more about interactive tables.';\n",
              "          element.innerHTML = '';\n",
              "          dataTable['output_type'] = 'display_data';\n",
              "          await google.colab.output.renderOutput(dataTable, element);\n",
              "          const docLink = document.createElement('div');\n",
              "          docLink.innerHTML = docLinkHtml;\n",
              "          element.appendChild(docLink);\n",
              "        }\n",
              "      </script>\n",
              "    </div>\n",
              "  </div>\n",
              "  "
            ]
          },
          "metadata": {},
          "execution_count": 10
        }
      ]
    },
    {
      "cell_type": "code",
      "source": [
        "final_data.info()"
      ],
      "metadata": {
        "colab": {
          "base_uri": "https://localhost:8080/"
        },
        "id": "F8iR5eFSJgwz",
        "outputId": "e35aa7e6-1ab3-43b1-82dc-2e863c590aed"
      },
      "execution_count": null,
      "outputs": [
        {
          "output_type": "stream",
          "name": "stdout",
          "text": [
            "<class 'pandas.core.frame.DataFrame'>\n",
            "RangeIndex: 12700 entries, 0 to 12699\n",
            "Data columns (total 3 columns):\n",
            " #   Column     Non-Null Count  Dtype \n",
            "---  ------     --------------  ----- \n",
            " 0   User_id    12700 non-null  int64 \n",
            " 1   Version    12700 non-null  object\n",
            " 2   Converted  12700 non-null  bool  \n",
            "dtypes: bool(1), int64(1), object(1)\n",
            "memory usage: 211.0+ KB\n"
          ]
        }
      ]
    },
    {
      "cell_type": "markdown",
      "source": [
        "# 3. SRM Check and Data Analysis"
      ],
      "metadata": {
        "id": "NNb8CLWRJwHJ"
      }
    },
    {
      "cell_type": "code",
      "source": [
        "from scipy.stats import chisquare\n",
        "# 12700\n",
        "chisquare([6500,6200], f_exp=[6350,6350])"
      ],
      "metadata": {
        "colab": {
          "base_uri": "https://localhost:8080/"
        },
        "id": "4XN8KZubJtYj",
        "outputId": "c252bce7-0b13-4a9a-93f0-7f184e88f577"
      },
      "execution_count": null,
      "outputs": [
        {
          "output_type": "execute_result",
          "data": {
            "text/plain": [
              "Power_divergenceResult(statistic=7.086614173228346, pvalue=0.007766183483219328)"
            ]
          },
          "metadata": {},
          "execution_count": 12
        }
      ]
    },
    {
      "cell_type": "markdown",
      "source": [
        "### why Chi-Square test ( goodness of fit ) ?\n",
        "\n",
        "\n",
        "\n"
      ],
      "metadata": {
        "id": "pNzVL3jFMGsY"
      }
    },
    {
      "cell_type": "markdown",
      "source": [
        "* The chi-square goodness of fit test is a statistical test used to determine if\n",
        "observed categorical data fits an expected distribution.\n",
        "\n",
        "* The test compares the observed frequencies of different categories with the expected frequencies to assess if there is a significant difference between them.\n",
        "\n",
        "* Here are the steps to perform a chi-square goodness of fit test:\n",
        "\n",
        "> Step 1: State the null and alternative hypotheses:\n",
        "* Null hypothesis (H0): The observed data follows the expected distribution.\n",
        "* Alternative hypothesis (Ha): The observed data does not follow the expected distribution.\n",
        "\n",
        ">  Step 2 : Set the significance level (α) for the test. This value will determine the threshold for rejecting the null hypothesis. Commonly used values are 0.05 or 0.01.\n",
        "\n",
        ">Step 3: Collect the observed data and determine the expected frequencies for each category.\n",
        "\n",
        "> Step 4: Create a contingency table that displays the observed and expected frequencies for each category. The table should have one row for each category and two columns for observed and expected frequencies.\n",
        "\n",
        "> Step 5: Calculate the chi-square test statistic (χ²). This is done by using the following formula for each category:\n",
        "χ² = Σ [(Observed frequency - Expected frequency)² / Expected frequency]\n",
        "\n",
        "> Step 6: Determine the degrees of freedom (df) for the test. It is calculated as the number of categories minus 1 (df = k - 1), where k is the number of categories.\n",
        "\n",
        "> Step 7: Compare the calculated chi-square test statistic with the critical chi-square value from the chi-square distribution table using the degrees of freedom and the chosen significance level. If the calculated chi-square value is greater than the critical value, the null hypothesis is rejected. If it is smaller, the null hypothesis is not rejected.\n",
        "\n",
        "> Step 8: Report the conclusion. If the null hypothesis is rejected, it means that there is evidence to suggest that the observed data does not follow the expected distribution. If the null hypothesis is not rejected, it means that there is no significant difference between the observed and expected data, and the observed data fits the expected distribution."
      ],
      "metadata": {
        "id": "sxrYUqkQNhKG"
      }
    },
    {
      "cell_type": "markdown",
      "source": [
        "### Conclusion from Chi-Square Test"
      ],
      "metadata": {
        "id": "70fB7cqCNj79"
      }
    },
    {
      "cell_type": "markdown",
      "source": [
        "**Statistic** is the chisquare test statistic value\n",
        "\n",
        "**P-value** is the p-value of the test"
      ],
      "metadata": {
        "id": "WmnVHmUlNq5x"
      }
    },
    {
      "cell_type": "markdown",
      "source": [
        "We set the alpha level at 0.001 to test Sample Ratio Mismatch. Since the p value is 0.008, that is, **p-value > alpha** We have to reject the null hypothesis and conclude no evidence of SRM.\n",
        "In other words, the treatment assignment works as expected."
      ],
      "metadata": {
        "id": "H5LfmoTrKv8T"
      }
    },
    {
      "cell_type": "markdown",
      "source": [
        "### Visualizations\n"
      ],
      "metadata": {
        "id": "AvlDEMWclTc5"
      }
    },
    {
      "cell_type": "code",
      "source": [
        "import seaborn as sns\n",
        "import matplotlib.pyplot as plt\n",
        "\n",
        "converted_acc_to_group = final_data.groupby('Version')['Converted'].agg(['sum','count']).reset_index()\n",
        "sns.barplot(data=converted_acc_to_group, x='Version', y='count', color ='b',label='Total participants')\n",
        "sns.barplot(data=converted_acc_to_group, x='Version', y='sum', color='orange', label='Total converted')\n",
        "plt.legend()\n",
        "plt.show()"
      ],
      "metadata": {
        "colab": {
          "base_uri": "https://localhost:8080/",
          "height": 449
        },
        "id": "MPYclTt7lWGN",
        "outputId": "b00ccfa1-521b-490b-8fba-67a3c0c066cd"
      },
      "execution_count": null,
      "outputs": [
        {
          "output_type": "display_data",
          "data": {
            "text/plain": [
              "<Figure size 640x480 with 1 Axes>"
            ],
            "image/png": "[encoded data removed]"
          },
          "metadata": {}
        }
      ]
    },
    {
      "cell_type": "markdown",
      "source": [
        "## A/B testing\n",
        "\n",
        "Consider you need to make the decision just based on all the data provided. That is we will assume that the **control group** is performing better unless the **treatment group** proves to be definitely better at a *alpha level* of 5%, what should your null and alternative hypotheses be? We can state your hypothesis in terms of words or in terms of Pnew and Pold, which are the converted rates for the control and treatment group.\n",
        "\n",
        "\n",
        "> Ho : Pold >= Pnew\n",
        "\n",
        "> Ha : Pold < Pnew\n",
        "\n",
        "Assume under the null hypothesis, Pnew\n",
        " and Pold\n",
        " both have \"true\" success rates equal to the converted success rate regardless of group - that is Pnew\n",
        " and Pold\n",
        " are equal. Furthermore, assume they are equal to the converted rate.\n",
        "\n",
        "Perform the sampling distribution for the difference in converted between the two pages over 10,000 iterations of calculating an estimate from the null."
      ],
      "metadata": {
        "id": "BwIeQAMIo70z"
      }
    },
    {
      "cell_type": "markdown",
      "source": [
        "Actual Conversion Rates"
      ],
      "metadata": {
        "id": "y-haO-wDsMeo"
      }
    },
    {
      "cell_type": "code",
      "source": [
        "# conversion rate for control\n",
        "Pcontrol = final_data[final_data['Version'] == 'control']['Converted'].mean()\n",
        "print(\"Conversion rate for conrol :\", Pcontrol)"
      ],
      "metadata": {
        "colab": {
          "base_uri": "https://localhost:8080/"
        },
        "id": "tLKh_c8po7Vw",
        "outputId": "7aafc32e-3252-4603-f717-b34a3a7c282b"
      },
      "execution_count": null,
      "outputs": [
        {
          "output_type": "stream",
          "name": "stdout",
          "text": [
            "Conversion rate for conrol : 0.17723076923076922\n"
          ]
        }
      ]
    },
    {
      "cell_type": "code",
      "source": [
        "# conversion rate for treatment\n",
        "Ptreatment = final_data[final_data['Version'] == 'treatment']['Converted'].mean()\n",
        "print(\"Conversion rate for treatment :\", Ptreatment)"
      ],
      "metadata": {
        "colab": {
          "base_uri": "https://localhost:8080/"
        },
        "id": "AcXF1m8Bl-F9",
        "outputId": "5da16be0-1634-4b1f-c97c-c927bc540d1b"
      },
      "execution_count": null,
      "outputs": [
        {
          "output_type": "stream",
          "name": "stdout",
          "text": [
            "Conversion rate for treatment : 0.19741935483870968\n"
          ]
        }
      ]
    },
    {
      "cell_type": "markdown",
      "source": [
        "Conversion rates assuming the null hypothesis is True"
      ],
      "metadata": {
        "id": "cVbo6FQksP9a"
      }
    },
    {
      "cell_type": "code",
      "source": [
        "Pnew = final_data['Converted'].mean()\n",
        "Pold = final_data['Converted'].mean()\n",
        "print(\"Pnew == Pold (assuming Ho is true) :\", (Pnew, Pold))"
      ],
      "metadata": {
        "colab": {
          "base_uri": "https://localhost:8080/"
        },
        "id": "ct291U4PpyPg",
        "outputId": "05725587-9747-4117-d772-644a781ea6dd"
      },
      "execution_count": null,
      "outputs": [
        {
          "output_type": "stream",
          "name": "stdout",
          "text": [
            "Pnew == Pold (assuming Ho is true) : (0.18708661417322833, 0.18708661417322833)\n"
          ]
        }
      ]
    },
    {
      "cell_type": "code",
      "source": [
        "# Nnew is count for participants in treatment group , Nold is count for participants in control group\n",
        "Nold = final_data[final_data['Version'] == 'control'].shape[0]\n",
        "Nnew = final_data[final_data['Version'] == 'treatment'].shape[0]\n",
        "print(Nold, Nnew)"
      ],
      "metadata": {
        "colab": {
          "base_uri": "https://localhost:8080/"
        },
        "id": "mqE8LP6AsZvp",
        "outputId": "ba0fb68e-9883-4bfb-a4c1-ec42f87d7810"
      },
      "execution_count": null,
      "outputs": [
        {
          "output_type": "stream",
          "name": "stdout",
          "text": [
            "6500 6200\n"
          ]
        }
      ]
    },
    {
      "cell_type": "markdown",
      "source": [
        "Perform the sampling distribution for the difference in converted between the two pages over 10,000 iterations of calculating an estimate from the null."
      ],
      "metadata": {
        "id": "Gx0JvDc3uwo5"
      }
    },
    {
      "cell_type": "code",
      "source": [
        "# performing 10000 simulations\n",
        "p_diffs = []\n",
        "for _ in range(10000):\n",
        "    new_page_converted = np.random.binomial(1, Pnew, Nnew)\n",
        "    old_page_converted = np.random.binomial(1, Pold, Nold)\n",
        "    npc = new_page_converted.mean()\n",
        "    opc = old_page_converted.mean()\n",
        "    diff = npc - opc\n",
        "    p_diffs.append(diff)"
      ],
      "metadata": {
        "id": "hfciAoKduDiI"
      },
      "execution_count": null,
      "outputs": []
    },
    {
      "cell_type": "code",
      "source": [
        "sns.kdeplot(data=p_diffs,shade='True')\n",
        "plt.title('Null Hypothesis distribution')\n",
        "plt.show()"
      ],
      "metadata": {
        "colab": {
          "base_uri": "https://localhost:8080/",
          "height": 452
        },
        "id": "y5GdXpCqvZnm",
        "outputId": "cc8b78ad-5d0c-4434-ce7a-bc19caacadee"
      },
      "execution_count": null,
      "outputs": [
        {
          "output_type": "display_data",
          "data": {
            "text/plain": [
              "<Figure size 640x480 with 1 Axes>"
            ],
            "image/png": "[encoded data removed]"
          },
          "metadata": {}
        }
      ]
    },
    {
      "cell_type": "code",
      "source": [
        "# observed difference between control and treatment group\n",
        "obs_diff = Ptreatment - Pcontrol\n",
        "obs_diff"
      ],
      "metadata": {
        "colab": {
          "base_uri": "https://localhost:8080/"
        },
        "id": "UOJpxqbmvf6V",
        "outputId": "9e5402b1-f8ca-47b6-fb04-5665d10f92c8"
      },
      "execution_count": null,
      "outputs": [
        {
          "output_type": "execute_result",
          "data": {
            "text/plain": [
              "0.020188585607940457"
            ]
          },
          "metadata": {},
          "execution_count": 20
        }
      ]
    },
    {
      "cell_type": "code",
      "source": [
        "sns.kdeplot(data=p_diffs, shade='True')\n",
        "plt.axvline(x=obs_diff,color='g', label='obs diff')\n",
        "plt.title('Null hypothesis distribution with observed difference')\n",
        "plt.legend()\n",
        "plt.show()"
      ],
      "metadata": {
        "colab": {
          "base_uri": "https://localhost:8080/",
          "height": 452
        },
        "id": "60WDL_8NwZN2",
        "outputId": "f2b619ce-a964-4f90-85ec-a19c7896cd84"
      },
      "execution_count": null,
      "outputs": [
        {
          "output_type": "display_data",
          "data": {
            "text/plain": [
              "<Figure size 640x480 with 1 Axes>"
            ],
            "image/png": "[encoded data removed]"
          },
          "metadata": {}
        }
      ]
    },
    {
      "cell_type": "code",
      "source": [
        "#proportion of the p_diffs are greater than the actual difference observed\n",
        "pvalue = (p_diffs > obs_diff).mean()#<---- This is the answer\n",
        "print(\"P-value from the above hypothesis test :\", pvalue)"
      ],
      "metadata": {
        "colab": {
          "base_uri": "https://localhost:8080/"
        },
        "id": "SfjeUTQjwk1m",
        "outputId": "8ac599d8-2708-4f9c-9673-e8b4ca52abc8"
      },
      "execution_count": null,
      "outputs": [
        {
          "output_type": "stream",
          "name": "stdout",
          "text": [
            "P-value from the above hypothesis test : 0.0023\n"
          ]
        }
      ]
    },
    {
      "cell_type": "markdown",
      "source": [
        "As Pvalue < alpha that is 0.0023 < 0.050\n",
        "\n",
        "We can reject the null hypothesis Ho and conclude that there is a statistically significant difference"
      ],
      "metadata": {
        "id": "SuXAlFk4xOn2"
      }
    },
    {
      "cell_type": "code",
      "source": [
        "p_diffs_alt = []\n",
        "for _ in range(10000):\n",
        "    new_page_converted = np.random.binomial(1, Ptreatment, Nnew)\n",
        "    old_page_converted = np.random.binomial(1, Pcontrol, Nold)\n",
        "    npc = new_page_converted.mean()\n",
        "    opc = old_page_converted.mean()\n",
        "    diff = npc - opc\n",
        "    p_diffs_alt.append(diff)"
      ],
      "metadata": {
        "id": "r-cKJ2XywyVI"
      },
      "execution_count": null,
      "outputs": []
    },
    {
      "cell_type": "code",
      "source": [
        "plt.figure(figsize=(12,5))\n",
        "sns.kdeplot(data=p_diffs, shade='True', label='Null hypothesis distribution')\n",
        "sns.kdeplot(data=p_diffs_alt, shade='True', color='orange', label='Alternate hypothesis distribution')\n",
        "plt.axvline(np.quantile(np.array(p_diffs),0.975), color='r', ymax=0.6)\n",
        "plt.axvline(np.quantile(np.array(p_diffs),0.025), color='r', label='Alpha', ymax=0.15)\n",
        "plt.axvline(x=obs_diff,color='green', label='Observed difference', linestyle='--')\n",
        "plt.legend()\n",
        "plt.title(\"Summary of Hypothesis Test\")\n",
        "plt.show()"
      ],
      "metadata": {
        "colab": {
          "base_uri": "https://localhost:8080/",
          "height": 468
        },
        "id": "zeJAti59xvkh",
        "outputId": "829a3e88-24a8-4da5-db20-9596a6fd3d6e"
      },
      "execution_count": null,
      "outputs": [
        {
          "output_type": "display_data",
          "data": {
            "text/plain": [
              "<Figure size 1200x500 with 1 Axes>"
            ],
            "image/png": "[encoded data removed]"
          },
          "metadata": {}
        }
      ]
    },
    {
      "cell_type": "markdown",
      "source": [
        "Using statsmodels.api built-in z-test for validation"
      ],
      "metadata": {
        "id": "OjGfyQuG1xCn"
      }
    },
    {
      "cell_type": "code",
      "source": [
        "import statsmodels.api as sm\n",
        "\n",
        "converted_control = final_data[(final_data['Version'] == 'control') & (final_data['Converted'] == True)].shape[0]\n",
        "N_control = final_data[final_data['Version'] == 'control'].shape[0]\n",
        "\n",
        "\n",
        "converted_treatment = final_data[(final_data['Version'] == 'treatment') & (final_data['Converted'] == True)].shape[0]\n",
        "N_treatment  = final_data[final_data['Version'] == 'treatment'].shape[0]\n",
        "\n",
        "print(f\"Total converted / Total Participants ( control group) : {converted_control} / {N_control}\")\n",
        "print(f\"Total converted / Total Participants ( treatment group) : {converted_treatment} / {N_treatment}\")"
      ],
      "metadata": {
        "id": "g6yywyGEx-db",
        "colab": {
          "base_uri": "https://localhost:8080/"
        },
        "outputId": "eb984d53-2d9d-4331-af08-fd655e140225"
      },
      "execution_count": null,
      "outputs": [
        {
          "output_type": "stream",
          "name": "stdout",
          "text": [
            "Total converted / Total Participants ( control group) : 1152 / 6500\n",
            "Total converted / Total Participants ( treatment group) : 1224 / 6200\n"
          ]
        }
      ]
    },
    {
      "cell_type": "code",
      "source": [
        "count = np.array([converted_treatment, converted_control])\n",
        "nobs = np.array([N_treatment, N_control])"
      ],
      "metadata": {
        "id": "PNvodrxCDsKV"
      },
      "execution_count": null,
      "outputs": []
    },
    {
      "cell_type": "code",
      "source": [
        "z_score, p_value = sm.stats.proportions_ztest(ncout, nobs, alternative='two-sided')\n",
        "(z_score, p_value)"
      ],
      "metadata": {
        "colab": {
          "base_uri": "https://localhost:8080/"
        },
        "id": "-tDIRJXnEgZV",
        "outputId": "440a933b-b8ce-408b-ccd1-23573129bb2a"
      },
      "execution_count": null,
      "outputs": [
        {
          "output_type": "execute_result",
          "data": {
            "text/plain": [
              "(2.91617149988572, 0.0035435565994046767)"
            ]
          },
          "metadata": {},
          "execution_count": 27
        }
      ]
    },
    {
      "cell_type": "markdown",
      "source": [
        "### Conclusion\n",
        ">The p-value associated with a 95% confidence level is 0.05. If [our] Z score is between -1.96 and +1.96, [our] p-value will be larger than 0.05, and you cannot reject your null hypothsis; In this case our z-score is equal to 2.91, which does not falls within -1.96 and 1.96. Therefore, we reject the null hypothesis.\n",
        "\n"
      ],
      "metadata": {
        "id": "wux1EDafXoGO"
      }
    },
    {
      "cell_type": "markdown",
      "source": [
        "The results of the pvalue from the built in method of hypothesis testing and the results from the simulations method of hypothesis testing validate each other. So we can conclude that we see statistically significant change.\n"
      ],
      "metadata": {
        "id": "a-puHDFweaAZ"
      }
    },
    {
      "cell_type": "markdown",
      "source": [
        "## Regression Approach\n",
        ">  In this final part, you will see that the result you acheived in the previous A/B test can also be acheived by performing regression.\n",
        "\n",
        "> Since each row is either a conversion or no conversion, we can use the logistic regression method\n",
        "\n",
        "> The goal is to use statsmodels to fit the logistic regression model. To see if there is a significant difference in conversion based on which group a customer receives. However, you first need to create a column for the intercept, and create a dummy variable column for which page each user received. Add an intercept column, as well as an group_page column, which is 1 when an individual receives the control and 0 if treatment."
      ],
      "metadata": {
        "id": "GiRr3M9ofJcY"
      }
    },
    {
      "cell_type": "code",
      "source": [
        "final_data.head()"
      ],
      "metadata": {
        "id": "hNldJVvOExQT",
        "colab": {
          "base_uri": "https://localhost:8080/",
          "height": 206
        },
        "outputId": "a3c4f2e7-eea8-4490-e164-6c3e7c014114"
      },
      "execution_count": null,
      "outputs": [
        {
          "output_type": "execute_result",
          "data": {
            "text/plain": [
              "   User_id    Version  Converted\n",
              "0    12065  treatment       True\n",
              "1     4447    control      False\n",
              "2     5336    control      False\n",
              "3       97    control      False\n",
              "4     7640  treatment      False"
            ],
            "text/html": [
              "\n",
              "  <div id=\"df-b757bd21-a0c9-4b18-a892-0007c84c970a\">\n",
              "    <div class=\"colab-df-container\">\n",
              "      <div>\n",
              "<style scoped>\n",
              "    .dataframe tbody tr th:only-of-type {\n",
              "        vertical-align: middle;\n",
              "    }\n",
              "\n",
              "    .dataframe tbody tr th {\n",
              "        vertical-align: top;\n",
              "    }\n",
              "\n",
              "    .dataframe thead th {\n",
              "        text-align: right;\n",
              "    }\n",
              "</style>\n",
              "<table border=\"1\" class=\"dataframe\">\n",
              "  <thead>\n",
              "    <tr style=\"text-align: right;\">\n",
              "      <th></th>\n",
              "      <th>User_id</th>\n",
              "      <th>Version</th>\n",
              "      <th>Converted</th>\n",
              "    </tr>\n",
              "  </thead>\n",
              "  <tbody>\n",
              "    <tr>\n",
              "      <th>0</th>\n",
              "      <td>12065</td>\n",
              "      <td>treatment</td>\n",
              "      <td>True</td>\n",
              "    </tr>\n",
              "    <tr>\n",
              "      <th>1</th>\n",
              "      <td>4447</td>\n",
              "      <td>control</td>\n",
              "      <td>False</td>\n",
              "    </tr>\n",
              "    <tr>\n",
              "      <th>2</th>\n",
              "      <td>5336</td>\n",
              "      <td>control</td>\n",
              "      <td>False</td>\n",
              "    </tr>\n",
              "    <tr>\n",
              "      <th>3</th>\n",
              "      <td>97</td>\n",
              "      <td>control</td>\n",
              "      <td>False</td>\n",
              "    </tr>\n",
              "    <tr>\n",
              "      <th>4</th>\n",
              "      <td>7640</td>\n",
              "      <td>treatment</td>\n",
              "      <td>False</td>\n",
              "    </tr>\n",
              "  </tbody>\n",
              "</table>\n",
              "</div>\n",
              "      <button class=\"colab-df-convert\" onclick=\"convertToInteractive('df-b757bd21-a0c9-4b18-a892-0007c84c970a')\"\n",
              "              title=\"Convert this dataframe to an interactive table.\"\n",
              "              style=\"display:none;\">\n",
              "        \n",
              "  <svg xmlns=\"http://www.w3.org/2000/svg\" height=\"24px\"viewBox=\"0 0 24 24\"\n",
              "       width=\"24px\">\n",
              "    <path d=\"M0 0h24v24H0V0z\" fill=\"none\"/>\n",
              "    <path d=\"M18.56 5.44l.94 2.06.94-2.06 2.06-.94-2.06-.94-.94-2.06-.94 2.06-2.06.94zm-11 1L8.5 8.5l.94-2.06 2.06-.94-2.06-.94L8.5 2.5l-.94 2.06-2.06.94zm10 10l.94 2.06.94-2.06 2.06-.94-2.06-.94-.94-2.06-.94 2.06-2.06.94z\"/><path d=\"M17.41 7.96l-1.37-1.37c-.4-.4-.92-.59-1.43-.59-.52 0-1.04.2-1.43.59L10.3 9.45l-7.72 7.72c-.78.78-.78 2.05 0 2.83L4 21.41c.39.39.9.59 1.41.59.51 0 1.02-.2 1.41-.59l7.78-7.78 2.81-2.81c.8-.78.8-2.07 0-2.86zM5.41 20L4 18.59l7.72-7.72 1.47 1.35L5.41 20z\"/>\n",
              "  </svg>\n",
              "      </button>\n",
              "      \n",
              "  <style>\n",
              "    .colab-df-container {\n",
              "      display:flex;\n",
              "      flex-wrap:wrap;\n",
              "      gap: 12px;\n",
              "    }\n",
              "\n",
              "    .colab-df-convert {\n",
              "      background-color: #E8F0FE;\n",
              "      border: none;\n",
              "      border-radius: 50%;\n",
              "      cursor: pointer;\n",
              "      display: none;\n",
              "      fill: #1967D2;\n",
              "      height: 32px;\n",
              "      padding: 0 0 0 0;\n",
              "      width: 32px;\n",
              "    }\n",
              "\n",
              "    .colab-df-convert:hover {\n",
              "      background-color: #E2EBFA;\n",
              "      box-shadow: 0px 1px 2px rgba(60, 64, 67, 0.3), 0px 1px 3px 1px rgba(60, 64, 67, 0.15);\n",
              "      fill: #174EA6;\n",
              "    }\n",
              "\n",
              "    [theme=dark] .colab-df-convert {\n",
              "      background-color: #3B4455;\n",
              "      fill: #D2E3FC;\n",
              "    }\n",
              "\n",
              "    [theme=dark] .colab-df-convert:hover {\n",
              "      background-color: #434B5C;\n",
              "      box-shadow: 0px 1px 3px 1px rgba(0, 0, 0, 0.15);\n",
              "      filter: drop-shadow(0px 1px 2px rgba(0, 0, 0, 0.3));\n",
              "      fill: #FFFFFF;\n",
              "    }\n",
              "  </style>\n",
              "\n",
              "      <script>\n",
              "        const buttonEl =\n",
              "          document.querySelector('#df-b757bd21-a0c9-4b18-a892-0007c84c970a button.colab-df-convert');\n",
              "        buttonEl.style.display =\n",
              "          google.colab.kernel.accessAllowed ? 'block' : 'none';\n",
              "\n",
              "        async function convertToInteractive(key) {\n",
              "          const element = document.querySelector('#df-b757bd21-a0c9-4b18-a892-0007c84c970a');\n",
              "          const dataTable =\n",
              "            await google.colab.kernel.invokeFunction('convertToInteractive',\n",
              "                                                     [key], {});\n",
              "          if (!dataTable) return;\n",
              "\n",
              "          const docLinkHtml = 'Like what you see? Visit the ' +\n",
              "            '<a target=\"_blank\" href=https://colab.research.google.com/notebooks/data_table.ipynb>data table notebook</a>'\n",
              "            + ' to learn more about interactive tables.';\n",
              "          element.innerHTML = '';\n",
              "          dataTable['output_type'] = 'display_data';\n",
              "          await google.colab.output.renderOutput(dataTable, element);\n",
              "          const docLink = document.createElement('div');\n",
              "          docLink.innerHTML = docLinkHtml;\n",
              "          element.appendChild(docLink);\n",
              "        }\n",
              "      </script>\n",
              "    </div>\n",
              "  </div>\n",
              "  "
            ]
          },
          "metadata": {},
          "execution_count": 28
        }
      ]
    },
    {
      "cell_type": "code",
      "source": [
        "final_data['Converted'] = (final_data['Converted'] == True).astype(int)\n",
        "final_data['Intercept'] = 1\n",
        "final_data['group'] = final_data['Version'].apply(lambda x: 1 if x == 'treatment' else 0)\n",
        "final_data.head()"
      ],
      "metadata": {
        "colab": {
          "base_uri": "https://localhost:8080/",
          "height": 206
        },
        "id": "9dgjK9RGgMeO",
        "outputId": "bf6b8c62-1558-47eb-d785-aecf87a8239d"
      },
      "execution_count": null,
      "outputs": [
        {
          "output_type": "execute_result",
          "data": {
            "text/plain": [
              "   User_id    Version  Converted  Intercept  group\n",
              "0    12065  treatment          1          1      1\n",
              "1     4447    control          0          1      0\n",
              "2     5336    control          0          1      0\n",
              "3       97    control          0          1      0\n",
              "4     7640  treatment          0          1      1"
            ],
            "text/html": [
              "\n",
              "  <div id=\"df-67d6fc46-9a34-495a-92f5-225eb1ac5a05\">\n",
              "    <div class=\"colab-df-container\">\n",
              "      <div>\n",
              "<style scoped>\n",
              "    .dataframe tbody tr th:only-of-type {\n",
              "        vertical-align: middle;\n",
              "    }\n",
              "\n",
              "    .dataframe tbody tr th {\n",
              "        vertical-align: top;\n",
              "    }\n",
              "\n",
              "    .dataframe thead th {\n",
              "        text-align: right;\n",
              "    }\n",
              "</style>\n",
              "<table border=\"1\" class=\"dataframe\">\n",
              "  <thead>\n",
              "    <tr style=\"text-align: right;\">\n",
              "      <th></th>\n",
              "      <th>User_id</th>\n",
              "      <th>Version</th>\n",
              "      <th>Converted</th>\n",
              "      <th>Intercept</th>\n",
              "      <th>group</th>\n",
              "    </tr>\n",
              "  </thead>\n",
              "  <tbody>\n",
              "    <tr>\n",
              "      <th>0</th>\n",
              "      <td>12065</td>\n",
              "      <td>treatment</td>\n",
              "      <td>1</td>\n",
              "      <td>1</td>\n",
              "      <td>1</td>\n",
              "    </tr>\n",
              "    <tr>\n",
              "      <th>1</th>\n",
              "      <td>4447</td>\n",
              "      <td>control</td>\n",
              "      <td>0</td>\n",
              "      <td>1</td>\n",
              "      <td>0</td>\n",
              "    </tr>\n",
              "    <tr>\n",
              "      <th>2</th>\n",
              "      <td>5336</td>\n",
              "      <td>control</td>\n",
              "      <td>0</td>\n",
              "      <td>1</td>\n",
              "      <td>0</td>\n",
              "    </tr>\n",
              "    <tr>\n",
              "      <th>3</th>\n",
              "      <td>97</td>\n",
              "      <td>control</td>\n",
              "      <td>0</td>\n",
              "      <td>1</td>\n",
              "      <td>0</td>\n",
              "    </tr>\n",
              "    <tr>\n",
              "      <th>4</th>\n",
              "      <td>7640</td>\n",
              "      <td>treatment</td>\n",
              "      <td>0</td>\n",
              "      <td>1</td>\n",
              "      <td>1</td>\n",
              "    </tr>\n",
              "  </tbody>\n",
              "</table>\n",
              "</div>\n",
              "      <button class=\"colab-df-convert\" onclick=\"convertToInteractive('df-67d6fc46-9a34-495a-92f5-225eb1ac5a05')\"\n",
              "              title=\"Convert this dataframe to an interactive table.\"\n",
              "              style=\"display:none;\">\n",
              "        \n",
              "  <svg xmlns=\"http://www.w3.org/2000/svg\" height=\"24px\"viewBox=\"0 0 24 24\"\n",
              "       width=\"24px\">\n",
              "    <path d=\"M0 0h24v24H0V0z\" fill=\"none\"/>\n",
              "    <path d=\"M18.56 5.44l.94 2.06.94-2.06 2.06-.94-2.06-.94-.94-2.06-.94 2.06-2.06.94zm-11 1L8.5 8.5l.94-2.06 2.06-.94-2.06-.94L8.5 2.5l-.94 2.06-2.06.94zm10 10l.94 2.06.94-2.06 2.06-.94-2.06-.94-.94-2.06-.94 2.06-2.06.94z\"/><path d=\"M17.41 7.96l-1.37-1.37c-.4-.4-.92-.59-1.43-.59-.52 0-1.04.2-1.43.59L10.3 9.45l-7.72 7.72c-.78.78-.78 2.05 0 2.83L4 21.41c.39.39.9.59 1.41.59.51 0 1.02-.2 1.41-.59l7.78-7.78 2.81-2.81c.8-.78.8-2.07 0-2.86zM5.41 20L4 18.59l7.72-7.72 1.47 1.35L5.41 20z\"/>\n",
              "  </svg>\n",
              "      </button>\n",
              "      \n",
              "  <style>\n",
              "    .colab-df-container {\n",
              "      display:flex;\n",
              "      flex-wrap:wrap;\n",
              "      gap: 12px;\n",
              "    }\n",
              "\n",
              "    .colab-df-convert {\n",
              "      background-color: #E8F0FE;\n",
              "      border: none;\n",
              "      border-radius: 50%;\n",
              "      cursor: pointer;\n",
              "      display: none;\n",
              "      fill: #1967D2;\n",
              "      height: 32px;\n",
              "      padding: 0 0 0 0;\n",
              "      width: 32px;\n",
              "    }\n",
              "\n",
              "    .colab-df-convert:hover {\n",
              "      background-color: #E2EBFA;\n",
              "      box-shadow: 0px 1px 2px rgba(60, 64, 67, 0.3), 0px 1px 3px 1px rgba(60, 64, 67, 0.15);\n",
              "      fill: #174EA6;\n",
              "    }\n",
              "\n",
              "    [theme=dark] .colab-df-convert {\n",
              "      background-color: #3B4455;\n",
              "      fill: #D2E3FC;\n",
              "    }\n",
              "\n",
              "    [theme=dark] .colab-df-convert:hover {\n",
              "      background-color: #434B5C;\n",
              "      box-shadow: 0px 1px 3px 1px rgba(0, 0, 0, 0.15);\n",
              "      filter: drop-shadow(0px 1px 2px rgba(0, 0, 0, 0.3));\n",
              "      fill: #FFFFFF;\n",
              "    }\n",
              "  </style>\n",
              "\n",
              "      <script>\n",
              "        const buttonEl =\n",
              "          document.querySelector('#df-67d6fc46-9a34-495a-92f5-225eb1ac5a05 button.colab-df-convert');\n",
              "        buttonEl.style.display =\n",
              "          google.colab.kernel.accessAllowed ? 'block' : 'none';\n",
              "\n",
              "        async function convertToInteractive(key) {\n",
              "          const element = document.querySelector('#df-67d6fc46-9a34-495a-92f5-225eb1ac5a05');\n",
              "          const dataTable =\n",
              "            await google.colab.kernel.invokeFunction('convertToInteractive',\n",
              "                                                     [key], {});\n",
              "          if (!dataTable) return;\n",
              "\n",
              "          const docLinkHtml = 'Like what you see? Visit the ' +\n",
              "            '<a target=\"_blank\" href=https://colab.research.google.com/notebooks/data_table.ipynb>data table notebook</a>'\n",
              "            + ' to learn more about interactive tables.';\n",
              "          element.innerHTML = '';\n",
              "          dataTable['output_type'] = 'display_data';\n",
              "          await google.colab.output.renderOutput(dataTable, element);\n",
              "          const docLink = document.createElement('div');\n",
              "          docLink.innerHTML = docLinkHtml;\n",
              "          element.appendChild(docLink);\n",
              "        }\n",
              "      </script>\n",
              "    </div>\n",
              "  </div>\n",
              "  "
            ]
          },
          "metadata": {},
          "execution_count": 29
        }
      ]
    },
    {
      "cell_type": "code",
      "source": [
        "import statsmodels.api as sm\n",
        "logit = sm.Logit(final_data['Converted'] , final_data[['Intercept','group']])\n",
        "result = logit.fit()\n",
        "print(result)\n",
        "\n",
        "print(result.summary())"
      ],
      "metadata": {
        "colab": {
          "base_uri": "https://localhost:8080/"
        },
        "id": "9gsHGzQLg2Qv",
        "outputId": "4dbf9582-2712-4614-ebd0-d045819782ec"
      },
      "execution_count": null,
      "outputs": [
        {
          "output_type": "stream",
          "name": "stdout",
          "text": [
            "Optimization terminated successfully.\n",
            "         Current function value: 0.481636\n",
            "         Iterations 5\n",
            "<statsmodels.discrete.discrete_model.BinaryResultsWrapper object at 0x7fb1877cde10>\n",
            "                           Logit Regression Results                           \n",
            "==============================================================================\n",
            "Dep. Variable:              Converted   No. Observations:                12700\n",
            "Model:                          Logit   Df Residuals:                    12698\n",
            "Method:                           MLE   Df Model:                            1\n",
            "Date:                Thu, 25 May 2023   Pseudo R-squ.:               0.0006945\n",
            "Time:                        04:37:28   Log-Likelihood:                -6116.8\n",
            "converged:                       True   LL-Null:                       -6121.0\n",
            "Covariance Type:            nonrobust   LLR p-value:                  0.003548\n",
            "==============================================================================\n",
            "                 coef    std err          z      P>|z|      [0.025      0.975]\n",
            "------------------------------------------------------------------------------\n",
            "Intercept     -1.5352      0.032    -47.265      0.000      -1.599      -1.472\n",
            "group          0.1327      0.046      2.915      0.004       0.043       0.222\n",
            "==============================================================================\n"
          ]
        }
      ]
    },
    {
      "cell_type": "markdown",
      "source": [
        "### Conclusions\n",
        "> Coefficient Estimates: The coefficient for the Group variable is 0.1327. This coefficient represents the log-odds ratio of conversion between the treatment group and the control group. A positive coefficient suggests that the treatment group has a higher probability of conversion compared to the control group.\n",
        "\n",
        "> Confidence Intervals and Hypothesis Testing: The standard error for the Group coefficient is 0.046. The z-statistic is 2.915, and the associated p-value is very small i.e 0.004. This indicates that the coefficient is statistically significant at conventional levels (e.g., alpha = 0.05). The 95% confidence interval for the Group coefficient ranges from 0.043 to 0.222, which means that we can be 95% confident that the true log-odds ratio lies within this interval."
      ],
      "metadata": {
        "id": "AsF-6rjL2XZJ"
      }
    }
  ]
}